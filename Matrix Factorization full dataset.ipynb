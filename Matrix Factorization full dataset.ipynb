{
 "cells": [
  {
   "cell_type": "code",
   "execution_count": 1,
   "id": "8bcb9654",
   "metadata": {},
   "outputs": [],
   "source": [
    "import numpy as np\n",
    "import matplotlib.pyplot as plt\n",
    "%matplotlib inline\n",
    "import pandas as pd\n",
    "import random\n",
    "\n"
   ]
  },
  {
   "cell_type": "code",
   "execution_count": 2,
   "id": "3ee46675",
   "metadata": {},
   "outputs": [],
   "source": [
    "#load the data into data frame\n",
    "ratings = pd.read_csv(\"ml-latest-small/ratings.csv\")\n",
    "movies = pd.read_csv(\"ml-latest-small/movies.csv\")\n",
    "tags = pd.read_csv(\"ml-latest-small/tags.csv\")"
   ]
  },
  {
   "cell_type": "code",
   "execution_count": 3,
   "id": "4f1023d6",
   "metadata": {},
   "outputs": [
    {
     "data": {
      "text/plain": [
       "3.501556983616962"
      ]
     },
     "execution_count": 3,
     "metadata": {},
     "output_type": "execute_result"
    }
   ],
   "source": [
    "#calculate global mean\n",
    "R_global = ratings[\"rating\"].mean()\n",
    "R_global"
   ]
  },
  {
   "cell_type": "code",
   "execution_count": 4,
   "id": "9155a1df",
   "metadata": {},
   "outputs": [],
   "source": [
    "#calculate average rating for each user\n",
    "for uid in range(1,611):\n",
    "    ratings.loc[ratings[\"userId\"] == uid, \"rating_user\"] = ratings.loc[ratings[\"userId\"]==uid, \"rating\"].mean()"
   ]
  },
  {
   "cell_type": "code",
   "execution_count": 5,
   "id": "020b34fe",
   "metadata": {},
   "outputs": [],
   "source": [
    "#calculate average rating for each movie\n",
    "for mid in ratings.movieId:\n",
    "    ratings.loc[ratings[\"movieId\"] == mid, \"rating_movie\"] = ratings.loc[ratings[\"movieId\"]== mid, \"rating\"].mean()"
   ]
  },
  {
   "cell_type": "code",
   "execution_count": 6,
   "id": "cf266349",
   "metadata": {},
   "outputs": [
    {
     "name": "stdout",
     "output_type": "stream",
     "text": [
      "        rating                                          ...                 \\\n",
      "userId     1   2   3   4    5    6    7    8   9   10   ...  601  602  603   \n",
      "movieId                                                 ...                  \n",
      "1          4.0 NaN NaN NaN  4.0  NaN  4.5  NaN NaN NaN  ...  4.0  NaN  4.0   \n",
      "2          NaN NaN NaN NaN  NaN  4.0  NaN  4.0 NaN NaN  ...  NaN  4.0  NaN   \n",
      "3          4.0 NaN NaN NaN  NaN  5.0  NaN  NaN NaN NaN  ...  NaN  NaN  NaN   \n",
      "4          NaN NaN NaN NaN  NaN  3.0  NaN  NaN NaN NaN  ...  NaN  NaN  NaN   \n",
      "5          NaN NaN NaN NaN  NaN  5.0  NaN  NaN NaN NaN  ...  NaN  NaN  NaN   \n",
      "...        ...  ..  ..  ..  ...  ...  ...  ...  ..  ..  ...  ...  ...  ...   \n",
      "193581     NaN NaN NaN NaN  NaN  NaN  NaN  NaN NaN NaN  ...  NaN  NaN  NaN   \n",
      "193583     NaN NaN NaN NaN  NaN  NaN  NaN  NaN NaN NaN  ...  NaN  NaN  NaN   \n",
      "193585     NaN NaN NaN NaN  NaN  NaN  NaN  NaN NaN NaN  ...  NaN  NaN  NaN   \n",
      "193587     NaN NaN NaN NaN  NaN  NaN  NaN  NaN NaN NaN  ...  NaN  NaN  NaN   \n",
      "193609     NaN NaN NaN NaN  NaN  NaN  NaN  NaN NaN NaN  ...  NaN  NaN  NaN   \n",
      "\n",
      "                                            \n",
      "userId   604  605  606  607  608  609  610  \n",
      "movieId                                     \n",
      "1        3.0  4.0  2.5  4.0  2.5  3.0  5.0  \n",
      "2        5.0  3.5  NaN  NaN  2.0  NaN  NaN  \n",
      "3        NaN  NaN  NaN  NaN  2.0  NaN  NaN  \n",
      "4        NaN  NaN  NaN  NaN  NaN  NaN  NaN  \n",
      "5        3.0  NaN  NaN  NaN  NaN  NaN  NaN  \n",
      "...      ...  ...  ...  ...  ...  ...  ...  \n",
      "193581   NaN  NaN  NaN  NaN  NaN  NaN  NaN  \n",
      "193583   NaN  NaN  NaN  NaN  NaN  NaN  NaN  \n",
      "193585   NaN  NaN  NaN  NaN  NaN  NaN  NaN  \n",
      "193587   NaN  NaN  NaN  NaN  NaN  NaN  NaN  \n",
      "193609   NaN  NaN  NaN  NaN  NaN  NaN  NaN  \n",
      "\n",
      "[9724 rows x 610 columns]\n"
     ]
    }
   ],
   "source": [
    "r_pivot = ratings.pivot(index = \"movieId\", columns = \"userId\", values = ['rating'])\n",
    "print(r_pivot)"
   ]
  },
  {
   "cell_type": "code",
   "execution_count": 7,
   "id": "1d1c5cbd",
   "metadata": {},
   "outputs": [],
   "source": [
    "r_pivot.reset_index(level=0, inplace = True)"
   ]
  },
  {
   "cell_type": "code",
   "execution_count": 8,
   "id": "d55db09e",
   "metadata": {},
   "outputs": [],
   "source": [
    "#make the data ready for UV decomposition, \n",
    "#transpose the pivoted data with rows representing users and columns representing movies\n",
    "header = r_pivot.T.iloc[0].astype(int)\n",
    "r_t = r_pivot.T[1:]\n",
    "r_t.columns = header\n",
    "r_t.index\n",
    "r_t = r_t.reset_index([None,'userId'])\n",
    "\n",
    "del r_t['level_0']\n",
    "\n",
    "r_t = r_t.set_index('userId')\n",
    "\n"
   ]
  },
  {
   "cell_type": "code",
   "execution_count": 9,
   "id": "00c30ad3",
   "metadata": {},
   "outputs": [],
   "source": [
    "r_t.reset_index(drop = True, inplace=True)"
   ]
  },
  {
   "cell_type": "code",
   "execution_count": 10,
   "id": "41c0f0a2",
   "metadata": {},
   "outputs": [],
   "source": [
    "def matrix_factorization(utility_matrix, num_factor, num_iter, learn_rate, regula):\n",
    "    \n",
    "    arr_u = np.array(utility_matrix)\n",
    "    num_user, num_movie = arr_u.shape #the number of rows and columns\n",
    "    \n",
    "    \n",
    "    overall_mean = np.nanmean(arr_u)\n",
    "    #user_factor = np.random.normal(np.sqrt(overall_mean/num_factor), 0.5, (num_user,num_factor))\n",
    "    #factor_movie = np.random.normal(np.sqrt(overall_mean/num_factor), 0.5, (num_factor,num_movie))\n",
    "    \n",
    "    #user_factor = np.random.uniform(0.1,0.9, (num_user,num_factor))\n",
    "    #factor_movie = np.random.uniform(0.1,0.9, (num_factor,num_movie))\n",
    "    \n",
    "    \n",
    "    \n",
    "    \n",
    "    X_hat = np.dot(user_factor, factor_movie) #initialize the utility matrix\n",
    "    \n",
    "    \n",
    "    RMSE_mf = []   \n",
    "    \n",
    "    for n in range(num_iter):\n",
    "        \n",
    "        \n",
    "        e_temp = []\n",
    "        for i in range(num_user):\n",
    "            for j in range(num_movie):\n",
    "                \n",
    "                if np.isnan(arr_u[i,j])== False:\n",
    "                    eij = arr_u[i,j] - X_hat[i,j]\n",
    "                    #e_temp.append(eij**2)\n",
    "                    user_factor[i,:] = user_factor[i,:] + learn_rate*(2*eij*factor_movie[:,j] - regula*user_factor[i,:])\n",
    "                    factor_movie[:,j] = factor_movie[:,j] + learn_rate*(2*eij*user_factor[i,:] - regula*factor_movie[:,j])\n",
    "                    X_hat = np.dot(user_factor, factor_movie) #update X_hat \n",
    "            \n",
    "                    e_temp.append(eij**2)\n",
    "        RMSE_mf.append(np.sqrt(np.mean(e_temp)))\n",
    "        \n",
    "    \n",
    "    \n",
    "    \n",
    "    plt.plot(RMSE_mf,\"c*-\")\n",
    "    plt.xlabel(\"epoch\")\n",
    "    plt.ylabel(\"RMSE\")\n",
    "    plt.show()\n",
    "    RMSE = np.sqrt(np.nanmean((arr_u - X_hat)**2))\n",
    "    MAE = np.nanmean(abs(arr_u - X_hat))\n",
    "    #print(\"RMSE:\",RMSE)\n",
    "    #print(\"MAE:\", MAE)\n",
    "    return np.around(X_hat,1), RMSE, MAE\n",
    "            \n",
    "                \n",
    "    "
   ]
  },
  {
   "cell_type": "code",
   "execution_count": 11,
   "id": "5d125381",
   "metadata": {},
   "outputs": [
    {
     "data": {
      "image/png": "[encoded data removed]",
      "text/plain": [
       "<Figure size 432x288 with 1 Axes>"
      ]
     },
     "metadata": {
      "needs_background": "light"
     },
     "output_type": "display_data"
    },
    {
     "data": {
      "text/plain": [
       "(array([[ 5. ,  4.6,  3.8, ...,  3.8,  4.4,  4.5],\n",
       "        [ 3.3,  2.8,  3.2, ...,  2.4,  3.8,  3.3],\n",
       "        [ 2.5,  1.7, -1.5, ...,  0.9,  3.1,  1.9],\n",
       "        ...,\n",
       "        [ 3.4,  2.8,  2.4, ...,  3.2,  2.9,  3.8],\n",
       "        [ 3.3,  2.9,  3. , ...,  2.5,  3.2,  3.4],\n",
       "        [ 4.1,  3.6,  3.4, ...,  3.1,  3.8,  4. ]]),\n",
       " 0.6352917658895147,\n",
       " 0.4853672387190543)"
      ]
     },
     "execution_count": 11,
     "metadata": {},
     "output_type": "execute_result"
    }
   ],
   "source": [
    "matrix_factorization(r_t,10,75,0.005,0.05)"
   ]
  },
  {
   "cell_type": "code",
   "execution_count": null,
   "id": "5b2963f7",
   "metadata": {},
   "outputs": [],
   "source": []
  }
 ],
 "metadata": {
  "kernelspec": {
   "display_name": "Python 3",
   "language": "python",
   "name": "python3"
  },
  "language_info": {
   "codemirror_mode": {
    "name": "ipython",
    "version": 3
   },
   "file_extension": ".py",
   "mimetype": "text/x-python",
   "name": "python",
   "nbconvert_exporter": "python",
   "pygments_lexer": "ipython3",
   "version": "3.8.8"
  }
 },
 "nbformat": 4,
 "nbformat_minor": 5
}
